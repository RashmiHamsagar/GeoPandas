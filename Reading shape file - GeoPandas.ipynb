{
 "cells": [
  {
   "cell_type": "code",
   "execution_count": 3,
   "id": "60fe25ce-767d-4115-9b12-b1665c2f77be",
   "metadata": {},
   "outputs": [],
   "source": [
    "import pandas as pd\n",
    "import geopandas as gpd\n",
    "import matplotlib.pyplot as plt"
   ]
  },
  {
   "cell_type": "code",
   "execution_count": 18,
   "id": "e0a40202-2bb9-4bba-81ce-a7b7fe0d48d9",
   "metadata": {},
   "outputs": [],
   "source": []
  },
  {
   "cell_type": "code",
   "execution_count": 16,
   "id": "dc362489-5da9-484e-a4b6-d12e770828ac",
   "metadata": {},
   "outputs": [
    {
     "name": "stdout",
     "output_type": "stream",
     "text": [
      "    SUMLEV REGION DIVISION  STATE              NAME  ESTIMATESBASE2020  \\\n",
      "0       10      0        0      0     United States          331515736   \n",
      "1       20      1        0      0  Northeast Region           57617706   \n",
      "2       30      1        1      0       New England           15122011   \n",
      "3       30      1        2      0   Middle Atlantic           42495695   \n",
      "4       20      2        0      0    Midwest Region           68998970   \n",
      "..     ...    ...      ...    ...               ...                ...   \n",
      "61      40      4        9     53        Washington            7707586   \n",
      "62      40      3        5     54     West Virginia            1793736   \n",
      "63      40      2        3     55         Wisconsin            5894170   \n",
      "64      40      4        8     56           Wyoming             576844   \n",
      "65      40      X        X     72       Puerto Rico            3285874   \n",
      "\n",
      "    POPESTIMATE2020  POPESTIMATE2021  POPESTIMATE2022  POPESTIMATE2023  ...  \\\n",
      "0         331577720        332099760        334017321        336806231  ...   \n",
      "1          57431458         57252533         57159597         57398303  ...   \n",
      "2          15057350         15118145         15175633         15263573  ...   \n",
      "3          42374108         42134388         41983964         42134730  ...   \n",
      "4          68984258         68872831         68903297         69186401  ...   \n",
      "..              ...              ...              ...              ...  ...   \n",
      "61          7727209          7743760          7794123          7857320  ...   \n",
      "62          1791646          1785618          1774122          1770495  ...   \n",
      "63          5897375          5881608          5903975          5930405  ...   \n",
      "64           577681           579636           581978           585067  ...   \n",
      "65          3281590          3262711          3220137          3203792  ...   \n",
      "\n",
      "    RINTERNATIONALMIG2023  RINTERNATIONALMIG2024  RDOMESTICMIG2021  \\\n",
      "0                6.840246               8.231786          0.000000   \n",
      "1                8.175150               9.848371         -4.674375   \n",
      "2                8.005202               9.622685          2.416795   \n",
      "3                8.236647               9.930153         -7.206423   \n",
      "4                4.859117               5.861482         -2.502867   \n",
      "..                    ...                    ...               ...   \n",
      "61               8.570200              10.316588         -2.028057   \n",
      "62               1.309027               1.604870          1.668314   \n",
      "63               3.083727               3.724715         -3.158677   \n",
      "64               1.777138               2.191552          3.126196   \n",
      "65              -0.016812               4.745995          0.000000   \n",
      "\n",
      "    RDOMESTICMIG2022  RDOMESTICMIG2023  RDOMESTICMIG2024  RNETMIG2021  \\\n",
      "0           0.000000          0.000000          0.000000     1.133093   \n",
      "1          -7.824957         -4.857718         -3.334322    -3.271477   \n",
      "2          -2.957175         -2.067991         -1.575091     4.188365   \n",
      "3          -9.578005         -5.867209         -3.971810    -5.935167   \n",
      "4          -2.649762         -1.300416         -0.709222    -1.700819   \n",
      "..               ...               ...               ...          ...   \n",
      "61         -0.444333         -2.209764          0.337770    -0.219379   \n",
      "62          0.162371          1.859721          2.553330     2.074770   \n",
      "63          1.273081          1.298758          1.064973    -2.617204   \n",
      "64          4.216547          2.983604          1.468425     3.362951   \n",
      "65          0.000000          0.000000          0.000000    -1.319316   \n",
      "\n",
      "    RNETMIG2022  RNETMIG2023  RNETMIG2024  \n",
      "0      5.084797     6.840246     8.231786  \n",
      "1     -2.006798     3.317432     6.514050  \n",
      "2      4.325839     5.937211     8.047594  \n",
      "3     -4.287388     2.369438     5.958342  \n",
      "4      0.891824     3.558701     5.152260  \n",
      "..          ...          ...          ...  \n",
      "61     5.160549     6.360436    10.654358  \n",
      "62     1.102328     3.168749     4.158200  \n",
      "63     4.614960     4.382486     4.789688  \n",
      "64     5.165227     4.760742     3.659977  \n",
      "65    -8.681678    -0.016812     4.745995  \n",
      "\n",
      "[66 rows x 75 columns]\n"
     ]
    }
   ],
   "source": [
    "df= pd.read_csv(\"C:/Users/hvras/OneDrive/Pandas/Maps with Python/NST-EST2024-ALLDATA.csv\")\n",
    "print(df)\n"
   ]
  },
  {
   "cell_type": "code",
   "execution_count": 32,
   "id": "02549953-420b-44cc-b375-25c83d90f989",
   "metadata": {},
   "outputs": [],
   "source": [
    "shape_path=\"C:/Users/hvras/OneDrive/Pandas/Geo Pandas/Maps with Python/cb_2018_us_aiannh_500k\""
   ]
  },
  {
   "cell_type": "code",
   "execution_count": 34,
   "id": "0ed03337-e949-419d-a445-99c9331512c4",
   "metadata": {},
   "outputs": [
    {
     "name": "stdout",
     "output_type": "stream",
     "text": [
      "    AIANNHCE  AIANNHNS       AFFGEOID GEOID             NAME LSAD      ALAND  \\\n",
      "0       0555  00220808  2500000US0555  0555       Cedarville   85     139809   \n",
      "1       4760  02419530  2500000US4760  4760            Yurok   86  217781851   \n",
      "2       2495  02419036  2500000US2495  2495       North Fork   85     937332   \n",
      "3       3520  00247949  2500000US3520  3520       Santa Rosa   85    1620467   \n",
      "4       3220  00231831  2500000US3220  3220      Rohnerville   85     176274   \n",
      "..       ...       ...            ...   ...              ...  ...        ...   \n",
      "690     7565  02419252  2500000US7565  7565           Telida   79    4335608   \n",
      "691     7315  02419202  2500000US7315  7315  Russian Mission   79   14648690   \n",
      "692     6825  02418673  2500000US6825  6825            Koyuk   79   12337367   \n",
      "693     6480  02418573  2500000US6480  6480          Emmonak   79   11877389   \n",
      "694     6935  02418705  2500000US6935  6935         Mekoryuk   79   16472057   \n",
      "\n",
      "      AWATER                                           geometry  \n",
      "0          0  POLYGON ((-120.19 41.527, -120.18 41.527, -120...  \n",
      "1    8668719  POLYGON ((-124.09 41.561, -124.08 41.561, -124...  \n",
      "2          0  MULTIPOLYGON (((-119.48 37.223, -119.48 37.223...  \n",
      "3          0  POLYGON ((-119.77 36.238, -119.77 36.238, -119...  \n",
      "4          0  MULTIPOLYGON (((-124.12 40.582, -124.12 40.582...  \n",
      "..       ...                                                ...  \n",
      "690        0  POLYGON ((-153.31 63.388, -153.3 63.387, -153....  \n",
      "691   945542  POLYGON ((-161.39 61.806, -161.39 61.806, -161...  \n",
      "692        0  POLYGON ((-161.2 64.951, -161.19 64.951, -161....  \n",
      "693  2052508  POLYGON ((-164.56 62.791, -164.47 62.791, -164...  \n",
      "694    33631  POLYGON ((-166.35 60.364, -166.35 60.364, -166...  \n",
      "\n",
      "[695 rows x 9 columns]\n"
     ]
    }
   ],
   "source": [
    "df1 = gpd.read_file(shape_path)\n",
    "print(df1)"
   ]
  },
  {
   "cell_type": "code",
   "execution_count": null,
   "id": "6f16834c-33c7-42cd-b971-b6479db35b73",
   "metadata": {},
   "outputs": [],
   "source": []
  },
  {
   "cell_type": "code",
   "execution_count": null,
   "id": "592bc089-2f26-44e3-95d7-28fe96150ba3",
   "metadata": {},
   "outputs": [],
   "source": []
  },
  {
   "cell_type": "code",
   "execution_count": null,
   "id": "48cd4b28-868a-4559-bc7c-35d36f8b82e2",
   "metadata": {},
   "outputs": [],
   "source": []
  },
  {
   "cell_type": "code",
   "execution_count": null,
   "id": "1cd6f703-480a-4af5-bb66-fc345ae2dcdf",
   "metadata": {},
   "outputs": [],
   "source": []
  },
  {
   "cell_type": "code",
   "execution_count": null,
   "id": "704834c8-862b-436e-980f-ba7ca45cb8e5",
   "metadata": {},
   "outputs": [],
   "source": []
  },
  {
   "cell_type": "code",
   "execution_count": null,
   "id": "f90e263f-3eab-47cb-9f80-bc13d1ef0da1",
   "metadata": {},
   "outputs": [],
   "source": []
  },
  {
   "cell_type": "code",
   "execution_count": null,
   "id": "92f0b9fe-dd9e-46b6-b935-1d92b6fcc068",
   "metadata": {},
   "outputs": [],
   "source": []
  },
  {
   "cell_type": "code",
   "execution_count": null,
   "id": "ce18444d-4e62-401a-abfe-2dec2376343a",
   "metadata": {},
   "outputs": [],
   "source": []
  },
  {
   "cell_type": "code",
   "execution_count": null,
   "id": "ece0deef-293a-4af1-9ae2-867b9f204679",
   "metadata": {},
   "outputs": [],
   "source": []
  }
 ],
 "metadata": {
  "kernelspec": {
   "display_name": "Python [conda env:base] *",
   "language": "python",
   "name": "conda-base-py"
  },
  "language_info": {
   "codemirror_mode": {
    "name": "ipython",
    "version": 3
   },
   "file_extension": ".py",
   "mimetype": "text/x-python",
   "name": "python",
   "nbconvert_exporter": "python",
   "pygments_lexer": "ipython3",
   "version": "3.12.7"
  }
 },
 "nbformat": 4,
 "nbformat_minor": 5
}
